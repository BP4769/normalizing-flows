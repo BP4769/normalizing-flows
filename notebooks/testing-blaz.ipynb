{
 "cells": [
  {
   "cell_type": "code",
   "execution_count": 1,
   "metadata": {},
   "outputs": [],
   "source": [
    "import torch\n",
    "from normalizing_flows.flows import Flow, PrincipalManifoldFlow\n",
    "from normalizing_flows.bijections import RealNVP"
   ]
  },
  {
   "cell_type": "code",
   "execution_count": 2,
   "metadata": {},
   "outputs": [],
   "source": [
    "import matplotlib.pyplot as plt\n",
    "import numpy as np\n",
    "\n",
    "import sys\n",
    "sys.path.insert(0, '../')\n",
    "\n",
    "from test.shapes import *\n",
    "\n",
    "sys.path.remove('../')"
   ]
  },
  {
   "cell_type": "code",
   "execution_count": 3,
   "metadata": {},
   "outputs": [
    {
     "data": {
      "text/plain": [
       "Text(0.5, 1.0, 'Swirl')"
      ]
     },
     "execution_count": 3,
     "metadata": {},
     "output_type": "execute_result"
    },
    {
     "data": {
      "image/png": "[encoded data removed]",
      "text/plain": [
       "<Figure size 640x480 with 1 Axes>"
      ]
     },
     "metadata": {},
     "output_type": "display_data"
    }
   ],
   "source": [
    "num_points = 10\n",
    "data_swirl = swirl(radius=1, angle=0, num_points=num_points, noise_std=0.03, seed=0)\n",
    "\n",
    "# plot data\n",
    "plt.figure()\n",
    "plt.scatter(data_swirl[0], data_swirl[1], s=1)\n",
    "plt.title('Swirl')"
   ]
  },
  {
   "cell_type": "code",
   "execution_count": 4,
   "metadata": {},
   "outputs": [],
   "source": [
    "# prepare the data\n",
    "data_tensor = torch.tensor(np.stack(data_swirl, axis=1)).float()  # Create a tensor from the data\n",
    "n_dim = 2"
   ]
  },
  {
   "cell_type": "code",
   "execution_count": 5,
   "metadata": {},
   "outputs": [],
   "source": [
    "# torch.manual_seed(0)\n",
    "# normal_flow = Flow(RealNVP(n_dim, n_layers=10), record_Ihat_P=True, record_log_px=True)\n",
    "# normal_flow.fit(data_tensor, show_progress=True)"
   ]
  },
  {
   "cell_type": "code",
   "execution_count": 6,
   "metadata": {},
   "outputs": [],
   "source": [
    "# x = torch.tensor([[0.5, 0.5], [0.5, 0.5], [0.5, 0.5], [0.5, 0.5]]).float()\n",
    "# result = torch.vmap(normal_flow.bijection.forward, chunk_size=1)(x.unsqueeze(1))\n",
    "# print(result)"
   ]
  },
  {
   "cell_type": "code",
   "execution_count": 7,
   "metadata": {},
   "outputs": [],
   "source": [
    "# NF_log_px = normal_flow.get_log_px()\n",
    "# NF_Ihat_P = normal_flow.get_Ihat_P()\n",
    "\n",
    "# # print all\n",
    "# print(\"NF_log_px: \", len(NF_log_px))\n",
    "# print(\"NF log_px average: \", torch.mean(NF_log_px))\n",
    "# print(\"NF_Ihat_P: \", len(NF_Ihat_P))\n",
    "# print(\"NF Ihat_P average: \", torch.mean(NF_Ihat_P))"
   ]
  },
  {
   "cell_type": "code",
   "execution_count": 8,
   "metadata": {},
   "outputs": [
    {
     "name": "stderr",
     "output_type": "stream",
     "text": [
      "Fitting Principal Manifold Flow:   0%|          | 0/500 [00:00<?, ?it/s]"
     ]
    },
    {
     "name": "stdout",
     "output_type": "stream",
     "text": [
      "x shape:  torch.Size([2])\n",
      "x:  GradTrackingTensor(lvl=2, value=\n",
      "    BatchedTensor(lvl=1, bdim=0, value=\n",
      "        tensor([[ 0.0672, -0.2531],\n",
      "                [ 1.0529, -0.0293],\n",
      "                [ 0.4706, -0.0045],\n",
      "                [ 0.0560,  0.0123],\n",
      "                [-0.0120,  0.2785],\n",
      "                [-0.0672, -0.7531],\n",
      "                [-0.4706, -0.0045],\n",
      "                [-1.0560,  0.0123],\n",
      "                [ 0.0120,  0.7785],\n",
      "                [-0.0529, -0.0293]])\n",
      "    )\n",
      ")\n",
      "x.shape (inside bijective composition):  GradTrackingTensor(lvl=2, value=\n",
      "    BatchedTensor(lvl=1, bdim=0, value=\n",
      "        tensor([[[ 0.0672, -0.2531]],\n",
      "\n",
      "                [[ 1.0529, -0.0293]],\n",
      "\n",
      "                [[ 0.4706, -0.0045]],\n",
      "\n",
      "                [[ 0.0560,  0.0123]],\n",
      "\n",
      "                [[-0.0120,  0.2785]],\n",
      "\n",
      "                [[-0.0672, -0.7531]],\n",
      "\n",
      "                [[-0.4706, -0.0045]],\n",
      "\n",
      "                [[-1.0560,  0.0123]],\n",
      "\n",
      "                [[ 0.0120,  0.7785]],\n",
      "\n",
      "                [[-0.0529, -0.0293]]])\n",
      "    )\n",
      ")\n",
      "ElementwiseAffine(\n",
      "  (transformer): Affine()\n",
      ")\n",
      "h:  GradTrackingTensor(lvl=2, value=\n",
      "    tensor([[[ 1.5410, -0.2934],\n",
      "             [-2.1788,  0.5684]]], grad_fn=<RepeatBackward0>)\n",
      ")\n",
      "log_det_layer.shape:  GradTrackingTensor(lvl=2, value=\n",
      "    tensor([-0.3175], grad_fn=<SumBackward1>)\n",
      ")\n",
      "log_det.shape:  GradTrackingTensor(lvl=2, value=\n",
      "    tensor([0.])\n",
      ")\n",
      "ReversePermutation(\n",
      "  (matrix): PermutationMatrix()\n",
      ")\n",
      "log_det_layer.shape:  GradTrackingTensor(lvl=2, value=\n",
      "    tensor([0.])\n",
      ")\n",
      "log_det.shape:  GradTrackingTensor(lvl=2, value=\n",
      "    tensor([-0.3175], grad_fn=<AddBackward0>)\n",
      ")\n",
      "AffineCoupling(\n",
      "  (conditioner_transform): FeedForward(\n",
      "    (context_combiner): Bypass()\n",
      "    (sequential): Sequential(\n",
      "      (0): Linear(in_features=1, out_features=4, bias=True)\n",
      "      (1): Tanh()\n",
      "      (2): Linear(in_features=4, out_features=2, bias=True)\n",
      "      (3): Unflatten(dim=-1, unflattened_size=torch.Size([1, 2]))\n",
      "    )\n",
      "  )\n",
      "  (transformer): Affine()\n",
      ")\n",
      "h:  GradTrackingTensor(lvl=2, value=\n",
      "    BatchedTensor(lvl=1, bdim=0, value=\n",
      "        tensor([[[[0.0786, 0.2856]]],\n",
      "\n",
      "\n",
      "                [[[0.0792, 0.2939]]],\n",
      "\n",
      "\n",
      "                [[[0.0792, 0.2949]]],\n",
      "\n",
      "\n",
      "                [[[0.0793, 0.2955]]],\n",
      "\n",
      "\n",
      "                [[[0.0803, 0.3053]]],\n",
      "\n",
      "\n",
      "                [[[0.0775, 0.2673]]],\n",
      "\n",
      "\n",
      "                [[[0.0792, 0.2949]]],\n",
      "\n",
      "\n",
      "                [[[0.0793, 0.2955]]],\n",
      "\n",
      "\n",
      "                [[[0.0836, 0.3234]]],\n",
      "\n",
      "\n",
      "                [[[0.0792, 0.2939]]]], grad_fn=<ViewBackward0>)\n",
      "    )\n",
      ")\n",
      "log_det_layer.shape:  GradTrackingTensor(lvl=2, value=\n",
      "    BatchedTensor(lvl=1, bdim=0, value=\n",
      "        tensor([[0.0393],\n",
      "                [0.0395],\n",
      "                [0.0396],\n",
      "                [0.0396],\n",
      "                [0.0401],\n",
      "                [0.0387],\n",
      "                [0.0396],\n",
      "                [0.0396],\n",
      "                [0.0418],\n",
      "                [0.0395]], grad_fn=<SumBackward1>)\n",
      "    )\n",
      ")\n",
      "log_det.shape:  GradTrackingTensor(lvl=2, value=\n",
      "    tensor([-0.3175], grad_fn=<AddBackward0>)\n",
      ")\n"
     ]
    },
    {
     "name": "stderr",
     "output_type": "stream",
     "text": [
      "\n"
     ]
    },
    {
     "ename": "RuntimeError",
     "evalue": "output with shape [1] doesn't match the broadcast shape [10, 1]",
     "output_type": "error",
     "traceback": [
      "\u001b[0;31m---------------------------------------------------------------------------\u001b[0m",
      "\u001b[0;31mRuntimeError\u001b[0m                              Traceback (most recent call last)",
      "Cell \u001b[0;32mIn[8], line 3\u001b[0m\n\u001b[1;32m      1\u001b[0m torch\u001b[38;5;241m.\u001b[39mmanual_seed(\u001b[38;5;241m0\u001b[39m)\n\u001b[1;32m      2\u001b[0m PM_flow \u001b[38;5;241m=\u001b[39m PrincipalManifoldFlow(RealNVP(n_dim, n_layers\u001b[38;5;241m=\u001b[39m\u001b[38;5;241m10\u001b[39m), record_Ihat_P\u001b[38;5;241m=\u001b[39m\u001b[38;5;28;01mTrue\u001b[39;00m, record_log_px\u001b[38;5;241m=\u001b[39m\u001b[38;5;28;01mTrue\u001b[39;00m, debug\u001b[38;5;241m=\u001b[39m\u001b[38;5;28;01mFalse\u001b[39;00m, objective\u001b[38;5;241m=\u001b[39m\u001b[38;5;124m\"\u001b[39m\u001b[38;5;124munbiased\u001b[39m\u001b[38;5;124m\"\u001b[39m)\n\u001b[0;32m----> 3\u001b[0m \u001b[43mPM_flow\u001b[49m\u001b[38;5;241;43m.\u001b[39;49m\u001b[43mfit\u001b[49m\u001b[43m(\u001b[49m\u001b[43mdata_tensor\u001b[49m\u001b[43m,\u001b[49m\u001b[43m \u001b[49m\u001b[43mshow_progress\u001b[49m\u001b[38;5;241;43m=\u001b[39;49m\u001b[38;5;28;43;01mTrue\u001b[39;49;00m\u001b[43m)\u001b[49m\n",
      "File \u001b[0;32m~/Documents/GitHub/normalizing-flows-fork/normalizing_flows/flows.py:832\u001b[0m, in \u001b[0;36mPrincipalManifoldFlow.fit\u001b[0;34m(self, x_train, n_epochs, lr, batch_size, shuffle, show_progress, w_train, context_train, x_val, w_val, context_val, keep_best_weights, early_stopping, early_stopping_threshold)\u001b[0m\n\u001b[1;32m    830\u001b[0m optimizer\u001b[38;5;241m.\u001b[39mzero_grad()\n\u001b[1;32m    831\u001b[0m \u001b[38;5;28;01mif\u001b[39;00m \u001b[38;5;28mself\u001b[39m\u001b[38;5;241m.\u001b[39mrecord_Ihat_P \u001b[38;5;129;01mor\u001b[39;00m \u001b[38;5;28mself\u001b[39m\u001b[38;5;241m.\u001b[39mrecord_log_px:\n\u001b[0;32m--> 832\u001b[0m     train_loss, Ihat_p, log_px \u001b[38;5;241m=\u001b[39m \u001b[43mcompute_batch_loss\u001b[49m\u001b[43m(\u001b[49m\u001b[43mtrain_batch\u001b[49m\u001b[43m,\u001b[49m\u001b[43m \u001b[49m\u001b[43mreduction\u001b[49m\u001b[38;5;241;43m=\u001b[39;49m\u001b[43mtorch\u001b[49m\u001b[38;5;241;43m.\u001b[39;49m\u001b[43mmean\u001b[49m\u001b[43m)\u001b[49m\n\u001b[1;32m    833\u001b[0m     Ihat_P_epoch \u001b[38;5;241m=\u001b[39m torch\u001b[38;5;241m.\u001b[39mcat((Ihat_P_epoch, Ihat_p))\n\u001b[1;32m    834\u001b[0m     log_px_epoch \u001b[38;5;241m=\u001b[39m torch\u001b[38;5;241m.\u001b[39mcat((log_px_epoch, log_px))\n",
      "File \u001b[0;32m~/Documents/GitHub/normalizing-flows-fork/normalizing_flows/flows.py:811\u001b[0m, in \u001b[0;36mPrincipalManifoldFlow.fit.<locals>.compute_batch_loss\u001b[0;34m(batch_, reduction)\u001b[0m\n\u001b[1;32m    809\u001b[0m \u001b[38;5;28;01melif\u001b[39;00m \u001b[38;5;28mself\u001b[39m\u001b[38;5;241m.\u001b[39mobjective \u001b[38;5;241m==\u001b[39m \u001b[38;5;124m\"\u001b[39m\u001b[38;5;124munbiased\u001b[39m\u001b[38;5;124m\"\u001b[39m:\n\u001b[1;32m    810\u001b[0m     \u001b[38;5;28;01mif\u001b[39;00m \u001b[38;5;28mself\u001b[39m\u001b[38;5;241m.\u001b[39mrecord_Ihat_P \u001b[38;5;129;01mor\u001b[39;00m \u001b[38;5;28mself\u001b[39m\u001b[38;5;241m.\u001b[39mrecord_log_px:\n\u001b[0;32m--> 811\u001b[0m         batch_objective, Ihat_p, log_px \u001b[38;5;241m=\u001b[39m \u001b[38;5;28;43mself\u001b[39;49m\u001b[38;5;241;43m.\u001b[39;49m\u001b[43mPF_objective_unbiased\u001b[49m\u001b[43m(\u001b[49m\u001b[43mbatch_x\u001b[49m\u001b[43m,\u001b[49m\u001b[43m \u001b[49m\u001b[43mreduction\u001b[49m\u001b[38;5;241;43m=\u001b[39;49m\u001b[43mtorch\u001b[49m\u001b[38;5;241;43m.\u001b[39;49m\u001b[43mmean\u001b[49m\u001b[43m,\u001b[49m\u001b[43m \u001b[49m\u001b[43mrandom_seed\u001b[49m\u001b[38;5;241;43m=\u001b[39;49m\u001b[38;5;28;43;01mNone\u001b[39;49;00m\u001b[43m,\u001b[49m\u001b[43m \u001b[49m\u001b[43mcontext\u001b[49m\u001b[38;5;241;43m=\u001b[39;49m\u001b[43mbatch_context\u001b[49m\u001b[43m)\u001b[49m\n\u001b[1;32m    812\u001b[0m         \u001b[38;5;28;01mreturn\u001b[39;00m batch_objective, Ihat_p, log_px\n\u001b[1;32m    813\u001b[0m     \u001b[38;5;28;01melse\u001b[39;00m:\n",
      "File \u001b[0;32m~/Documents/GitHub/normalizing-flows-fork/normalizing_flows/flows.py:680\u001b[0m, in \u001b[0;36mPrincipalManifoldFlow.PF_objective_unbiased\u001b[0;34m(self, x, reduction, random_seed, context)\u001b[0m\n\u001b[1;32m    676\u001b[0m     objective \u001b[38;5;241m=\u001b[39m \u001b[38;5;241m-\u001b[39mlog_px \u001b[38;5;241m+\u001b[39m \u001b[38;5;28mself\u001b[39m\u001b[38;5;241m.\u001b[39malpha \u001b[38;5;241m*\u001b[39m Ihat_P\n\u001b[1;32m    678\u001b[0m     \u001b[38;5;28;01mreturn\u001b[39;00m objective, Ihat_P, log_px\n\u001b[0;32m--> 680\u001b[0m objective, Ihat_P, log_px \u001b[38;5;241m=\u001b[39m \u001b[43mtorch\u001b[49m\u001b[38;5;241;43m.\u001b[39;49m\u001b[43mvmap\u001b[49m\u001b[43m(\u001b[49m\u001b[43mobjective_unbathced\u001b[49m\u001b[43m)\u001b[49m\u001b[43m(\u001b[49m\u001b[43mx\u001b[49m\u001b[43m)\u001b[49m\n\u001b[1;32m    681\u001b[0m \u001b[38;5;66;03m# objective, Ihat_P, log_px = objective_unbathced(x)\u001b[39;00m\n\u001b[1;32m    682\u001b[0m objective \u001b[38;5;241m=\u001b[39m reduction(objective)\n",
      "File \u001b[0;32m~/Documents/GitHub/normalizing-flows-fork/.conda/lib/python3.10/site-packages/torch/_functorch/apis.py:188\u001b[0m, in \u001b[0;36mvmap.<locals>.wrapped\u001b[0;34m(*args, **kwargs)\u001b[0m\n\u001b[1;32m    187\u001b[0m \u001b[38;5;28;01mdef\u001b[39;00m \u001b[38;5;21mwrapped\u001b[39m(\u001b[38;5;241m*\u001b[39margs, \u001b[38;5;241m*\u001b[39m\u001b[38;5;241m*\u001b[39mkwargs):\n\u001b[0;32m--> 188\u001b[0m     \u001b[38;5;28;01mreturn\u001b[39;00m \u001b[43mvmap_impl\u001b[49m\u001b[43m(\u001b[49m\u001b[43mfunc\u001b[49m\u001b[43m,\u001b[49m\u001b[43m \u001b[49m\u001b[43min_dims\u001b[49m\u001b[43m,\u001b[49m\u001b[43m \u001b[49m\u001b[43mout_dims\u001b[49m\u001b[43m,\u001b[49m\u001b[43m \u001b[49m\u001b[43mrandomness\u001b[49m\u001b[43m,\u001b[49m\u001b[43m \u001b[49m\u001b[43mchunk_size\u001b[49m\u001b[43m,\u001b[49m\u001b[43m \u001b[49m\u001b[38;5;241;43m*\u001b[39;49m\u001b[43margs\u001b[49m\u001b[43m,\u001b[49m\u001b[43m \u001b[49m\u001b[38;5;241;43m*\u001b[39;49m\u001b[38;5;241;43m*\u001b[39;49m\u001b[43mkwargs\u001b[49m\u001b[43m)\u001b[49m\n",
      "File \u001b[0;32m~/Documents/GitHub/normalizing-flows-fork/.conda/lib/python3.10/site-packages/torch/_functorch/vmap.py:266\u001b[0m, in \u001b[0;36mvmap_impl\u001b[0;34m(func, in_dims, out_dims, randomness, chunk_size, *args, **kwargs)\u001b[0m\n\u001b[1;32m    262\u001b[0m     \u001b[38;5;28;01mreturn\u001b[39;00m _chunked_vmap(func, flat_in_dims, chunks_flat_args,\n\u001b[1;32m    263\u001b[0m                          args_spec, out_dims, randomness, \u001b[38;5;241m*\u001b[39m\u001b[38;5;241m*\u001b[39mkwargs)\n\u001b[1;32m    265\u001b[0m \u001b[38;5;66;03m# If chunk_size is not specified.\u001b[39;00m\n\u001b[0;32m--> 266\u001b[0m \u001b[38;5;28;01mreturn\u001b[39;00m \u001b[43m_flat_vmap\u001b[49m\u001b[43m(\u001b[49m\n\u001b[1;32m    267\u001b[0m \u001b[43m    \u001b[49m\u001b[43mfunc\u001b[49m\u001b[43m,\u001b[49m\u001b[43m \u001b[49m\u001b[43mbatch_size\u001b[49m\u001b[43m,\u001b[49m\u001b[43m \u001b[49m\u001b[43mflat_in_dims\u001b[49m\u001b[43m,\u001b[49m\u001b[43m \u001b[49m\u001b[43mflat_args\u001b[49m\u001b[43m,\u001b[49m\u001b[43m \u001b[49m\u001b[43margs_spec\u001b[49m\u001b[43m,\u001b[49m\u001b[43m \u001b[49m\u001b[43mout_dims\u001b[49m\u001b[43m,\u001b[49m\u001b[43m \u001b[49m\u001b[43mrandomness\u001b[49m\u001b[43m,\u001b[49m\u001b[43m \u001b[49m\u001b[38;5;241;43m*\u001b[39;49m\u001b[38;5;241;43m*\u001b[39;49m\u001b[43mkwargs\u001b[49m\n\u001b[1;32m    268\u001b[0m \u001b[43m\u001b[49m\u001b[43m)\u001b[49m\n",
      "File \u001b[0;32m~/Documents/GitHub/normalizing-flows-fork/.conda/lib/python3.10/site-packages/torch/_functorch/vmap.py:38\u001b[0m, in \u001b[0;36mdoesnt_support_saved_tensors_hooks.<locals>.fn\u001b[0;34m(*args, **kwargs)\u001b[0m\n\u001b[1;32m     35\u001b[0m \u001b[38;5;129m@functools\u001b[39m\u001b[38;5;241m.\u001b[39mwraps(f)\n\u001b[1;32m     36\u001b[0m \u001b[38;5;28;01mdef\u001b[39;00m \u001b[38;5;21mfn\u001b[39m(\u001b[38;5;241m*\u001b[39margs, \u001b[38;5;241m*\u001b[39m\u001b[38;5;241m*\u001b[39mkwargs):\n\u001b[1;32m     37\u001b[0m     \u001b[38;5;28;01mwith\u001b[39;00m torch\u001b[38;5;241m.\u001b[39mautograd\u001b[38;5;241m.\u001b[39mgraph\u001b[38;5;241m.\u001b[39mdisable_saved_tensors_hooks(message):\n\u001b[0;32m---> 38\u001b[0m         \u001b[38;5;28;01mreturn\u001b[39;00m \u001b[43mf\u001b[49m\u001b[43m(\u001b[49m\u001b[38;5;241;43m*\u001b[39;49m\u001b[43margs\u001b[49m\u001b[43m,\u001b[49m\u001b[43m \u001b[49m\u001b[38;5;241;43m*\u001b[39;49m\u001b[38;5;241;43m*\u001b[39;49m\u001b[43mkwargs\u001b[49m\u001b[43m)\u001b[49m\n",
      "File \u001b[0;32m~/Documents/GitHub/normalizing-flows-fork/.conda/lib/python3.10/site-packages/torch/_functorch/vmap.py:379\u001b[0m, in \u001b[0;36m_flat_vmap\u001b[0;34m(func, batch_size, flat_in_dims, flat_args, args_spec, out_dims, randomness, **kwargs)\u001b[0m\n\u001b[1;32m    377\u001b[0m \u001b[38;5;28;01mtry\u001b[39;00m:\n\u001b[1;32m    378\u001b[0m     batched_inputs \u001b[38;5;241m=\u001b[39m _create_batched_inputs(flat_in_dims, flat_args, vmap_level, args_spec)\n\u001b[0;32m--> 379\u001b[0m     batched_outputs \u001b[38;5;241m=\u001b[39m \u001b[43mfunc\u001b[49m\u001b[43m(\u001b[49m\u001b[38;5;241;43m*\u001b[39;49m\u001b[43mbatched_inputs\u001b[49m\u001b[43m,\u001b[49m\u001b[43m \u001b[49m\u001b[38;5;241;43m*\u001b[39;49m\u001b[38;5;241;43m*\u001b[39;49m\u001b[43mkwargs\u001b[49m\u001b[43m)\u001b[49m\n\u001b[1;32m    380\u001b[0m     \u001b[38;5;28;01mreturn\u001b[39;00m _unwrap_batched(batched_outputs, out_dims, vmap_level, batch_size, func)\n\u001b[1;32m    381\u001b[0m \u001b[38;5;28;01mfinally\u001b[39;00m:\n",
      "File \u001b[0;32m~/Documents/GitHub/normalizing-flows-fork/normalizing_flows/flows.py:663\u001b[0m, in \u001b[0;36mPrincipalManifoldFlow.PF_objective_unbiased.<locals>.objective_unbathced\u001b[0;34m(x)\u001b[0m\n\u001b[1;32m    660\u001b[0m     log_pz \u001b[38;5;241m=\u001b[39m log_pz\u001b[38;5;241m.\u001b[39msqueeze(\u001b[38;5;241m0\u001b[39m)\n\u001b[1;32m    661\u001b[0m     \u001b[38;5;28;01mreturn\u001b[39;00m z, (z, log_det, log_pz)\n\u001b[0;32m--> 663\u001b[0m G, (z, log_det, log_pz) \u001b[38;5;241m=\u001b[39m \u001b[43mtorch\u001b[49m\u001b[38;5;241;43m.\u001b[39;49m\u001b[43mfunc\u001b[49m\u001b[38;5;241;43m.\u001b[39;49m\u001b[43mjacrev\u001b[49m\u001b[43m(\u001b[49m\u001b[43mapply_func\u001b[49m\u001b[43m,\u001b[49m\u001b[43m \u001b[49m\u001b[43mhas_aux\u001b[49m\u001b[38;5;241;43m=\u001b[39;49m\u001b[38;5;28;43;01mTrue\u001b[39;49;00m\u001b[43m)\u001b[49m\u001b[43m(\u001b[49m\u001b[43mx\u001b[49m\u001b[43m)\u001b[49m\n\u001b[1;32m    664\u001b[0m \u001b[38;5;66;03m# log_px = log_pz + 0.5*log_det # This was our version\u001b[39;00m\n\u001b[1;32m    665\u001b[0m log_px \u001b[38;5;241m=\u001b[39m log_pz \u001b[38;5;241m+\u001b[39m log_det \u001b[38;5;66;03m# taken from author's code\u001b[39;00m\n",
      "File \u001b[0;32m~/Documents/GitHub/normalizing-flows-fork/.conda/lib/python3.10/site-packages/torch/_functorch/eager_transforms.py:492\u001b[0m, in \u001b[0;36mjacrev.<locals>.wrapper_fn\u001b[0;34m(*args)\u001b[0m\n\u001b[1;32m    489\u001b[0m \u001b[38;5;129m@wraps\u001b[39m(func)\n\u001b[1;32m    490\u001b[0m \u001b[38;5;28;01mdef\u001b[39;00m \u001b[38;5;21mwrapper_fn\u001b[39m(\u001b[38;5;241m*\u001b[39margs):\n\u001b[1;32m    491\u001b[0m     error_if_complex(\u001b[38;5;124m\"\u001b[39m\u001b[38;5;124mjacrev\u001b[39m\u001b[38;5;124m\"\u001b[39m, args, is_input\u001b[38;5;241m=\u001b[39m\u001b[38;5;28;01mTrue\u001b[39;00m)\n\u001b[0;32m--> 492\u001b[0m     vjp_out \u001b[38;5;241m=\u001b[39m \u001b[43m_vjp_with_argnums\u001b[49m\u001b[43m(\u001b[49m\u001b[43mfunc\u001b[49m\u001b[43m,\u001b[49m\u001b[43m \u001b[49m\u001b[38;5;241;43m*\u001b[39;49m\u001b[43margs\u001b[49m\u001b[43m,\u001b[49m\u001b[43m \u001b[49m\u001b[43margnums\u001b[49m\u001b[38;5;241;43m=\u001b[39;49m\u001b[43margnums\u001b[49m\u001b[43m,\u001b[49m\u001b[43m \u001b[49m\u001b[43mhas_aux\u001b[49m\u001b[38;5;241;43m=\u001b[39;49m\u001b[43mhas_aux\u001b[49m\u001b[43m)\u001b[49m\n\u001b[1;32m    493\u001b[0m     \u001b[38;5;28;01mif\u001b[39;00m has_aux:\n\u001b[1;32m    494\u001b[0m         output, vjp_fn, aux \u001b[38;5;241m=\u001b[39m vjp_out\n",
      "File \u001b[0;32m~/Documents/GitHub/normalizing-flows-fork/.conda/lib/python3.10/site-packages/torch/_functorch/vmap.py:38\u001b[0m, in \u001b[0;36mdoesnt_support_saved_tensors_hooks.<locals>.fn\u001b[0;34m(*args, **kwargs)\u001b[0m\n\u001b[1;32m     35\u001b[0m \u001b[38;5;129m@functools\u001b[39m\u001b[38;5;241m.\u001b[39mwraps(f)\n\u001b[1;32m     36\u001b[0m \u001b[38;5;28;01mdef\u001b[39;00m \u001b[38;5;21mfn\u001b[39m(\u001b[38;5;241m*\u001b[39margs, \u001b[38;5;241m*\u001b[39m\u001b[38;5;241m*\u001b[39mkwargs):\n\u001b[1;32m     37\u001b[0m     \u001b[38;5;28;01mwith\u001b[39;00m torch\u001b[38;5;241m.\u001b[39mautograd\u001b[38;5;241m.\u001b[39mgraph\u001b[38;5;241m.\u001b[39mdisable_saved_tensors_hooks(message):\n\u001b[0;32m---> 38\u001b[0m         \u001b[38;5;28;01mreturn\u001b[39;00m \u001b[43mf\u001b[49m\u001b[43m(\u001b[49m\u001b[38;5;241;43m*\u001b[39;49m\u001b[43margs\u001b[49m\u001b[43m,\u001b[49m\u001b[43m \u001b[49m\u001b[38;5;241;43m*\u001b[39;49m\u001b[38;5;241;43m*\u001b[39;49m\u001b[43mkwargs\u001b[49m\u001b[43m)\u001b[49m\n",
      "File \u001b[0;32m~/Documents/GitHub/normalizing-flows-fork/.conda/lib/python3.10/site-packages/torch/_functorch/eager_transforms.py:294\u001b[0m, in \u001b[0;36m_vjp_with_argnums\u001b[0;34m(func, argnums, has_aux, *primals)\u001b[0m\n\u001b[1;32m    292\u001b[0m     diff_primals \u001b[38;5;241m=\u001b[39m _slice_argnums(primals, argnums, as_tuple\u001b[38;5;241m=\u001b[39m\u001b[38;5;28;01mFalse\u001b[39;00m)\n\u001b[1;32m    293\u001b[0m     tree_map_(partial(_create_differentiable, level\u001b[38;5;241m=\u001b[39mlevel), diff_primals)\n\u001b[0;32m--> 294\u001b[0m primals_out \u001b[38;5;241m=\u001b[39m \u001b[43mfunc\u001b[49m\u001b[43m(\u001b[49m\u001b[38;5;241;43m*\u001b[39;49m\u001b[43mprimals\u001b[49m\u001b[43m)\u001b[49m\n\u001b[1;32m    296\u001b[0m \u001b[38;5;28;01mif\u001b[39;00m has_aux:\n\u001b[1;32m    297\u001b[0m     \u001b[38;5;28;01mif\u001b[39;00m \u001b[38;5;129;01mnot\u001b[39;00m (\u001b[38;5;28misinstance\u001b[39m(primals_out, \u001b[38;5;28mtuple\u001b[39m) \u001b[38;5;129;01mand\u001b[39;00m \u001b[38;5;28mlen\u001b[39m(primals_out) \u001b[38;5;241m==\u001b[39m \u001b[38;5;241m2\u001b[39m):\n",
      "File \u001b[0;32m~/Documents/GitHub/normalizing-flows-fork/normalizing_flows/flows.py:656\u001b[0m, in \u001b[0;36mPrincipalManifoldFlow.PF_objective_unbiased.<locals>.objective_unbathced.<locals>.apply_func\u001b[0;34m(x)\u001b[0m\n\u001b[1;32m    654\u001b[0m \u001b[38;5;28mprint\u001b[39m(\u001b[38;5;124m\"\u001b[39m\u001b[38;5;124mx shape: \u001b[39m\u001b[38;5;124m\"\u001b[39m, x\u001b[38;5;241m.\u001b[39mshape)\n\u001b[1;32m    655\u001b[0m \u001b[38;5;28mprint\u001b[39m(\u001b[38;5;124m\"\u001b[39m\u001b[38;5;124mx: \u001b[39m\u001b[38;5;124m\"\u001b[39m, x)\n\u001b[0;32m--> 656\u001b[0m z, log_det \u001b[38;5;241m=\u001b[39m \u001b[38;5;28;43mself\u001b[39;49m\u001b[38;5;241;43m.\u001b[39;49m\u001b[43mbijection\u001b[49m\u001b[38;5;241;43m.\u001b[39;49m\u001b[43mforward\u001b[49m\u001b[43m(\u001b[49m\u001b[43mx\u001b[49m\u001b[38;5;241;43m.\u001b[39;49m\u001b[43mto\u001b[49m\u001b[43m(\u001b[49m\u001b[38;5;28;43mself\u001b[39;49m\u001b[38;5;241;43m.\u001b[39;49m\u001b[43mloc\u001b[49m\u001b[43m)\u001b[49m\u001b[38;5;241;43m.\u001b[39;49m\u001b[43munsqueeze\u001b[49m\u001b[43m(\u001b[49m\u001b[38;5;241;43m0\u001b[39;49m\u001b[43m)\u001b[49m\u001b[43m,\u001b[49m\u001b[43m \u001b[49m\u001b[43mcontext\u001b[49m\u001b[38;5;241;43m=\u001b[39;49m\u001b[43mcontext\u001b[49m\u001b[43m)\u001b[49m\n\u001b[1;32m    657\u001b[0m log_pz \u001b[38;5;241m=\u001b[39m \u001b[38;5;28mself\u001b[39m\u001b[38;5;241m.\u001b[39mbase_log_prob(z)\n\u001b[1;32m    658\u001b[0m z \u001b[38;5;241m=\u001b[39m z\u001b[38;5;241m.\u001b[39msqueeze(\u001b[38;5;241m0\u001b[39m)\n",
      "File \u001b[0;32m~/Documents/GitHub/normalizing-flows-fork/normalizing_flows/bijections/base.py:108\u001b[0m, in \u001b[0;36mBijectiveComposition.forward\u001b[0;34m(self, x, context, **kwargs)\u001b[0m\n\u001b[1;32m    106\u001b[0m     \u001b[38;5;28mprint\u001b[39m(\u001b[38;5;124m\"\u001b[39m\u001b[38;5;124mlog_det_layer.shape: \u001b[39m\u001b[38;5;124m\"\u001b[39m, log_det_layer)\n\u001b[1;32m    107\u001b[0m     \u001b[38;5;28mprint\u001b[39m(\u001b[38;5;124m\"\u001b[39m\u001b[38;5;124mlog_det.shape: \u001b[39m\u001b[38;5;124m\"\u001b[39m, log_det)\n\u001b[0;32m--> 108\u001b[0m     log_det \u001b[38;5;241m+\u001b[39m\u001b[38;5;241m=\u001b[39m log_det_layer\n\u001b[1;32m    109\u001b[0m z \u001b[38;5;241m=\u001b[39m x\n\u001b[1;32m    110\u001b[0m \u001b[38;5;28;01mreturn\u001b[39;00m z, log_det\n",
      "\u001b[0;31mRuntimeError\u001b[0m: output with shape [1] doesn't match the broadcast shape [10, 1]"
     ]
    }
   ],
   "source": [
    "torch.manual_seed(0)\n",
    "PM_flow = PrincipalManifoldFlow(RealNVP(n_dim, n_layers=10), record_Ihat_P=True, record_log_px=True, debug=False, objective=\"unbiased\")\n",
    "PM_flow.fit(data_tensor, show_progress=True)"
   ]
  },
  {
   "cell_type": "code",
   "execution_count": null,
   "metadata": {},
   "outputs": [],
   "source": []
  }
 ],
 "metadata": {
  "kernelspec": {
   "display_name": "Python 3",
   "language": "python",
   "name": "python3"
  },
  "language_info": {
   "codemirror_mode": {
    "name": "ipython",
    "version": 3
   },
   "file_extension": ".py",
   "mimetype": "text/x-python",
   "name": "python",
   "nbconvert_exporter": "python",
   "pygments_lexer": "ipython3",
   "version": "3.10.13"
  }
 },
 "nbformat": 4,
 "nbformat_minor": 2
}
