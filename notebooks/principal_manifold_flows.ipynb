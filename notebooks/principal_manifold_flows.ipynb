{
 "cells": [
  {
   "cell_type": "markdown",
   "metadata": {},
   "source": [
    "### Command for bulding the localy cloned package"
   ]
  },
  {
   "cell_type": "code",
   "execution_count": null,
   "metadata": {},
   "outputs": [],
   "source": [
    "# !pip install -e ."
   ]
  },
  {
   "cell_type": "markdown",
   "metadata": {},
   "source": [
    "### Example"
   ]
  },
  {
   "cell_type": "code",
   "execution_count": 1,
   "metadata": {},
   "outputs": [],
   "source": [
    "import torch\n",
    "from normalizing_flows.flows import Flow, PrincipalManifoldFlow\n",
    "from normalizing_flows.bijections import RealNVP"
   ]
  },
  {
   "cell_type": "code",
   "execution_count": 2,
   "metadata": {},
   "outputs": [],
   "source": [
    "# Create some synthetic training and validation data\n",
    "torch.manual_seed(0)\n",
    "\n",
    "event_shape = (10,)\n",
    "n_train = 100\n",
    "n_val = 20\n",
    "n_test = 10000\n",
    "\n",
    "x_train = torch.randn(n_train, *event_shape) * 2 + 4\n",
    "x_val = torch.randn(n_val, *event_shape) * 2 + 4\n",
    "x_test = torch.randn(n_test, *event_shape) * 2 + 4"
   ]
  },
  {
   "cell_type": "code",
   "execution_count": 3,
   "metadata": {},
   "outputs": [
    {
     "name": "stderr",
     "output_type": "stream",
     "text": [
      "Fitting Principal Manifold Flow: 100%|██████████| 500/500 [11:49<00:00,  1.42s/it, Training loss (batch): -inf]\n"
     ]
    }
   ],
   "source": [
    "# Train without validation data\n",
    "torch.manual_seed(0)\n",
    "flow0 = PrincipalManifoldFlow(RealNVP(event_shape, n_layers=5), 10)\n",
    "flow0.fit(x_train, show_progress=True)"
   ]
  },
  {
   "cell_type": "code",
   "execution_count": 4,
   "metadata": {},
   "outputs": [
    {
     "name": "stdout",
     "output_type": "stream",
     "text": [
      "Without validation data: 75.92913818359375\n"
     ]
    }
   ],
   "source": [
    "print(f\"Without validation data: {torch.mean(-flow0.log_prob(x_test))}\")"
   ]
  },
  {
   "cell_type": "markdown",
   "metadata": {},
   "source": [
    "### Example case for understanding dimensions"
   ]
  },
  {
   "cell_type": "code",
   "execution_count": 3,
   "metadata": {},
   "outputs": [
    {
     "ename": "NameError",
     "evalue": "name 'torch' is not defined",
     "output_type": "error",
     "traceback": [
      "\u001b[0;31m---------------------------------------------------------------------------\u001b[0m",
      "\u001b[0;31mNameError\u001b[0m                                 Traceback (most recent call last)",
      "Cell \u001b[0;32mIn[3], line 3\u001b[0m\n\u001b[1;32m      1\u001b[0m \u001b[38;5;28;01mdef\u001b[39;00m \u001b[38;5;21mexp_reducer\u001b[39m(x):\n\u001b[1;32m      2\u001b[0m     \u001b[38;5;28;01mreturn\u001b[39;00m x\u001b[38;5;241m.\u001b[39mexp() \u001b[38;5;241m+\u001b[39m \u001b[38;5;241m1\u001b[39m\n\u001b[0;32m----> 3\u001b[0m inputs \u001b[38;5;241m=\u001b[39m \u001b[43mtorch\u001b[49m\u001b[38;5;241m.\u001b[39mrand(\u001b[38;5;241m10\u001b[39m, \u001b[38;5;241m3\u001b[39m)\n\u001b[1;32m      4\u001b[0m \u001b[38;5;28mprint\u001b[39m(\u001b[38;5;124m'\u001b[39m\u001b[38;5;124minputs shape\u001b[39m\u001b[38;5;124m'\u001b[39m, inputs\u001b[38;5;241m.\u001b[39mshape)\n\u001b[1;32m      5\u001b[0m M \u001b[38;5;241m=\u001b[39m torch\u001b[38;5;241m.\u001b[39mautograd\u001b[38;5;241m.\u001b[39mfunctional\u001b[38;5;241m.\u001b[39mjacobian(exp_reducer, inputs)\n",
      "\u001b[0;31mNameError\u001b[0m: name 'torch' is not defined"
     ]
    }
   ],
   "source": [
    "def exp_reducer(x):\n",
    "    return x.exp() + 1\n",
    "inputs = torch.rand(10, 3)\n",
    "print('inputs shape', inputs.shape)\n",
    "M = torch.autograd.functional.jacobian(exp_reducer, inputs)\n",
    "print('M shape', M.shape)"
   ]
  },
  {
   "cell_type": "code",
   "execution_count": 11,
   "metadata": {},
   "outputs": [
    {
     "name": "stdout",
     "output_type": "stream",
     "text": [
      "A shape torch.Size([10, 3])\n",
      "input shape torch.Size([10, 3])\n"
     ]
    }
   ],
   "source": [
    "A = exp_reducer(inputs)\n",
    "print('A shape', A.shape)\n",
    "print(\"input shape\", inputs.shape)"
   ]
  },
  {
   "cell_type": "code",
   "execution_count": null,
   "metadata": {},
   "outputs": [],
   "source": []
  }
 ],
 "metadata": {
  "kernelspec": {
   "display_name": "Python 3",
   "language": "python",
   "name": "python3"
  },
  "language_info": {
   "codemirror_mode": {
    "name": "ipython",
    "version": 3
   },
   "file_extension": ".py",
   "mimetype": "text/x-python",
   "name": "python",
   "nbconvert_exporter": "python",
   "pygments_lexer": "ipython3",
   "version": "3.10.13"
  }
 },
 "nbformat": 4,
 "nbformat_minor": 2
}
