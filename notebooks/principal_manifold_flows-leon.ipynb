{
 "cells": [
  {
   "cell_type": "markdown",
   "metadata": {},
   "source": [
    "### Command for bulding the localy cloned package\n",
    "\n",
    "install the package in editable mode (command needs to be copied to the terminal - doens't work in notebook becuase paths or something ¯\\_(ツ)_/¯)\n",
    "\n",
    "\"\"\" pip install -e . \"\"\""
   ]
  },
  {
   "cell_type": "markdown",
   "metadata": {},
   "source": [
    "### Example"
   ]
  },
  {
   "cell_type": "code",
   "execution_count": 1,
   "metadata": {},
   "outputs": [],
   "source": [
    "import torch\n",
    "from normalizing_flows.flows import Flow, PrincipalManifoldFlow\n",
    "from normalizing_flows.bijections import RealNVP\n",
    "# from torch.autograd.functional import vjp"
   ]
  },
  {
   "cell_type": "code",
   "execution_count": null,
   "metadata": {},
   "outputs": [],
   "source": [
    "# Create some synthetic training and validation data\n",
    "torch.manual_seed(0)\n",
    "\n",
    "event_shape = (10,)\n",
    "n_train = 100\n",
    "n_val = 20\n",
    "n_test = 10000\n",
    "\n",
    "x_train = torch.randn(n_train, *event_shape) * 2 + 4\n",
    "x_val = torch.randn(n_val, *event_shape) * 2 + 4\n",
    "x_test = torch.randn(n_test, *event_shape) * 2 + 4\n",
    "\n",
    "x_one_dimensional = torch.randn(event_shape) * 2 + 4"
   ]
  },
  {
   "cell_type": "code",
   "execution_count": null,
   "metadata": {},
   "outputs": [],
   "source": [
    "# Train without validation data\n",
    "torch.manual_seed(0)\n",
    "flow0 = PrincipalManifoldFlow(RealNVP(event_shape, n_layers=5), debug=False)\n",
    "flow0.fit(x_train, show_progress=True)"
   ]
  },
  {
   "cell_type": "code",
   "execution_count": null,
   "metadata": {},
   "outputs": [],
   "source": [
    "# Train with validation data and keep the best weights\n",
    "torch.manual_seed(0)\n",
    "flow1 = PrincipalManifoldFlow(RealNVP(event_shape, n_layers=5))\n",
    "flow1.fit(x_train, show_progress=True, x_val=x_val)"
   ]
  },
  {
   "cell_type": "code",
   "execution_count": null,
   "metadata": {},
   "outputs": [],
   "source": [
    "# Train with validation data, early stopping, and keep the best weights\n",
    "torch.manual_seed(0)\n",
    "flow2 = PrincipalManifoldFlow(RealNVP(event_shape, n_layers=5))\n",
    "flow2.fit(x_train, show_progress=True, x_val=x_val, early_stopping=True)"
   ]
  },
  {
   "cell_type": "code",
   "execution_count": null,
   "metadata": {},
   "outputs": [],
   "source": [
    "print(\"Test loss values\")\n",
    "print()\n",
    "print(f\"Without validation data: {torch.mean(-flow0.log_prob(x_test))}\")\n",
    "print(f\"With validation data, no early stopping: {torch.mean(-flow1.log_prob(x_test))}\")\n",
    "print(f\"With validation data, early stopping: {torch.mean(-flow2.log_prob(x_test))}\")"
   ]
  },
  {
   "cell_type": "markdown",
   "metadata": {},
   "source": [
    "### SHAPES EXPERIMENT"
   ]
  },
  {
   "cell_type": "code",
   "execution_count": null,
   "metadata": {},
   "outputs": [],
   "source": [
    "import torch\n",
    "from normalizing_flows.flows import Flow, PrincipalManifoldFlow\n",
    "from normalizing_flows.bijections import RealNVP"
   ]
  },
  {
   "cell_type": "code",
   "execution_count": null,
   "metadata": {},
   "outputs": [],
   "source": [
    "import matplotlib.pyplot as plt\n",
    "import numpy as np\n",
    "\n",
    "import sys\n",
    "sys.path.insert(0, '../')\n",
    "\n",
    "from test.shapes import *\n",
    "\n",
    "sys.path.remove('../')"
   ]
  },
  {
   "cell_type": "code",
   "execution_count": null,
   "metadata": {},
   "outputs": [],
   "source": [
    "num_points = 50000\n",
    "\n",
    "data_regular_polygon = n_regular_polygon(n=10, radius=1, angle=0, arc_height=0.1, num_points=num_points, noise_std=0.02, seed=0)\n",
    "data_double_circle = double_circle(num_points=num_points, radius1=1.0, radius2=0.5, noise_std=0.02, seed=0)\n",
    "data_caret = caret(line_length=2, angle=45, num_points=num_points, noise_std=0.05, seed=0)\n",
    "data_swirl = swirl(radius=1, angle=0, num_points=num_points, noise_std=0.03, seed=0)\n",
    "data_grid = grid(n=4, dist=(0.5, 0.5), num_points=num_points, noise_std=0.03, seed=0)\n",
    "data_moons = moons(radius=1, angle=0, shift=None, num_points=num_points, noise_std=0.03, seed=0)\n",
    "data_swiss_roll = swiss_roll(radius1=1, radius2=0.25, num_revolutions=2, num_points=num_points, noise_std=0.03, seed=0)\n",
    "data_hline = hline(length=2, num_points=num_points, noise_std=0.03, seed=0)\n",
    "\n",
    "\n",
    "# Plotting the generated points\n",
    "ax, fig = plt.subplots(1, 8, figsize=(35, 5))\n",
    "fig[0].scatter(data_regular_polygon[0], data_regular_polygon[1], s=1)\n",
    "fig[0].set_title(\"Regular polygon\")\n",
    "fig[1].scatter(data_double_circle[0], data_double_circle[1], s=1)\n",
    "fig[1].set_title(\"Double circle\")\n",
    "fig[2].scatter(data_caret[0], data_caret[1], s=1)\n",
    "fig[2].set_title(\"Caret\")\n",
    "fig[3].scatter(data_swirl[0], data_swirl[1], s=1)\n",
    "fig[3].set_title(\"Swirl\")\n",
    "fig[4].scatter(data_grid[0], data_grid[1], s=1)\n",
    "fig[4].set_title(\"Grid\")\n",
    "fig[5].scatter(data_moons[0], data_moons[1], s=1)\n",
    "fig[5].set_title(\"Moons\")\n",
    "fig[6].scatter(data_swiss_roll[0], data_swiss_roll[1], s=1)\n",
    "fig[6].set_title(\"Swiss roll\")\n",
    "fig[7].scatter(data_hline[0], data_hline[1], s=1)\n",
    "fig[7].set_title(\"Horizontal line\")\n",
    "plt.show()"
   ]
  },
  {
   "cell_type": "code",
   "execution_count": null,
   "metadata": {},
   "outputs": [],
   "source": [
    "# prepare the data\n",
    "target_data = data_hline\n",
    "\n",
    "data_tensor = torch.tensor(np.stack(target_data, axis=1)).float()  # Create a tensor from the data\n",
    "n_dim = 2"
   ]
  },
  {
   "cell_type": "code",
   "execution_count": null,
   "metadata": {},
   "outputs": [],
   "source": [
    "torch.manual_seed(0)\n",
    "normal_flow = Flow(RealNVP(n_dim, n_layers=10), record_Ihat_P=True, record_log_px=True)\n",
    "normal_flow.fit(data_tensor, show_progress=True, early_stopping=True)"
   ]
  },
  {
   "cell_type": "code",
   "execution_count": null,
   "metadata": {},
   "outputs": [],
   "source": [
    "torch.manual_seed(0)\n",
    "PM_flow = PrincipalManifoldFlow(RealNVP(n_dim, n_layers=10), record_Ihat_P=True, record_log_px=True)\n",
    "PM_flow.fit(data_tensor, show_progress=True)"
   ]
  },
  {
   "cell_type": "code",
   "execution_count": null,
   "metadata": {},
   "outputs": [],
   "source": [
    "x_new_normal = normal_flow.sample(100000).detach().numpy()  # Sample 1000 new data points\n",
    "x_new_PM = PM_flow.sample(100000).detach().numpy()  # Sample 1000 new data points\n",
    "\n",
    "# plot new data of both flows (using subplots)\n",
    "ax, fig = plt.subplots(1, 2, figsize=(10, 5))\n",
    "fig[0].scatter(x_new_normal[:, 0], x_new_normal[:, 1], s=1)\n",
    "fig[0].set_title(\"Normal flow\")\n",
    "fig[0].set_xlim(-1,1)\n",
    "fig[0].set_ylim(-1,1)\n",
    "fig[1].scatter(x_new_PM[:, 0], x_new_PM[:, 1], s=1)\n",
    "fig[1].set_title(\"PF flow\")\n",
    "fig[1].set_xlim(-1,1)\n",
    "fig[1].set_ylim(-1,1)"
   ]
  },
  {
   "cell_type": "code",
   "execution_count": null,
   "metadata": {},
   "outputs": [],
   "source": [
    "def gen_grid_lines(x_min=-1, x_max=1, y_min=-1, y_max=1, x_tick=20, y_tick=20, density=100):\n",
    "    \"\"\"\n",
    "    Generate grid points that are densely populated along horizontal and vertical lines at tick intervals,\n",
    "    with a specified density within each tick line.\n",
    "\n",
    "    Parameters:\n",
    "    - x_min, x_max: The minimum and maximum values on the x-axis.\n",
    "    - y_min, y_max: The minimum and maximum values on the y-axis.\n",
    "    - x_tick, y_tick: The number of tick lines along the x-axis and y-axis.\n",
    "    - density: The number of points within each tick line.\n",
    "    \n",
    "    Returns:\n",
    "    - grid: A tensor containing the grid points, densely populated along tick lines.\n",
    "    \"\"\"\n",
    "    # Generate tick positions\n",
    "    x_ticks = torch.linspace(x_min, x_max, x_tick)\n",
    "    y_ticks = torch.linspace(y_min, y_max, y_tick)\n",
    "    \n",
    "    # Generate dense points along the x-axis for each y-tick\n",
    "    dense_x = torch.linspace(x_min, x_max, density)\n",
    "    x_grid = torch.stack([dense_x.repeat(y_tick), torch.tensor([[y]*density for y in y_ticks]).flatten()], dim=-1)\n",
    "    \n",
    "    # Generate dense points along the y-axis for each x-tick\n",
    "    dense_y = torch.linspace(y_min, y_max, density)\n",
    "    y_grid = torch.stack([torch.tensor([[x]*density for x in x_ticks]).flatten(), dense_y.repeat(x_tick)], dim=-1)\n",
    "    \n",
    "    # Combine the grids\n",
    "    grid = torch.cat((x_grid, y_grid), dim=0).unique(dim=0)\n",
    "    \n",
    "    return grid"
   ]
  },
  {
   "cell_type": "code",
   "execution_count": null,
   "metadata": {},
   "outputs": [],
   "source": [
    "def gen_grid_lines_colored(x_min=-1, x_max=1, y_min=-1, y_max=1, x_tick=20, y_tick=20, density=100):\n",
    "    \"\"\"\n",
    "    Generate grid points along horizontal and vertical lines at tick intervals,\n",
    "    with a specified density within each tick line, and assign colors to each line type.\n",
    "\n",
    "    Parameters are adjusted for compatibility with the plotting requirements of normalizing flows.\n",
    "    \"\"\"\n",
    "    x_ticks = np.linspace(x_min, x_max, x_tick)\n",
    "    y_ticks = np.linspace(y_min, y_max, y_tick)\n",
    "    grid_points = []\n",
    "    colors = []\n",
    "    for y in y_ticks:\n",
    "        for x in np.linspace(x_min, x_max, density):\n",
    "            grid_points.append([x, y])\n",
    "            colors.append('blue')  # Horizontal lines\n",
    "    for x in x_ticks:\n",
    "        for y in np.linspace(y_min, y_max, density):\n",
    "            grid_points.append([x, y])\n",
    "            colors.append('red')  # Vertical lines\n",
    "    grid = np.array(grid_points)\n",
    "    return torch.tensor(grid, dtype=torch.float), colors"
   ]
  },
  {
   "cell_type": "code",
   "execution_count": null,
   "metadata": {},
   "outputs": [],
   "source": [
    "import torch\n",
    "import numpy as np\n",
    "import matplotlib.pyplot as plt\n",
    "\n",
    "# Generate grid lines with colors\n",
    "latent_grid, colors = gen_grid_lines_colored(x_tick=30, y_tick=300, density=3000, x_min=-2, x_max=2, y_min=-2, y_max=2)\n",
    "\n",
    "# Transform the grid points using the normalizing flows and convert them back to numpy for plotting\n",
    "latent_grid_PM = PM_flow.bijection(latent_grid)[0].detach().numpy()\n",
    "latent_grid_normal = normal_flow.bijection(latent_grid)[0].detach().numpy()\n",
    "\n",
    "fig, axs = plt.subplots(1, 2, figsize=(10, 5))\n",
    "\n",
    "lbound = -2\n",
    "ubound = 2\n",
    "\n",
    "# Plot for normal flow\n",
    "axs[0].scatter(latent_grid_normal[:, 0], latent_grid_normal[:, 1], c=colors, s=1)\n",
    "axs[0].set_title(\"Normal flow\")\n",
    "axs[0].set_xlim(lbound, ubound)\n",
    "axs[0].set_ylim(lbound, ubound)\n",
    "\n",
    "# Plot for PF flow\n",
    "axs[1].scatter(latent_grid_PM[:, 0], latent_grid_PM[:, 1], c=colors, s=1)\n",
    "axs[1].set_title(\"PF flow\")\n",
    "axs[1].set_xlim(lbound, ubound)\n",
    "axs[1].set_ylim(lbound, ubound)\n",
    "\n",
    "plt.show()\n",
    "\n"
   ]
  },
  {
   "cell_type": "markdown",
   "metadata": {},
   "source": [
    "Comparison of log_px and Ihat_P values of both flows."
   ]
  },
  {
   "cell_type": "code",
   "execution_count": null,
   "metadata": {},
   "outputs": [],
   "source": [
    "NF_log_px = normal_flow.get_log_px()\n",
    "NF_Ihat_P = normal_flow.get_Ihat_P()\n",
    "\n",
    "# print all\n",
    "print(\"NF_log_px: \", len(NF_log_px))\n",
    "print(\"NF log_px average: \", torch.mean(NF_log_px))\n",
    "print(\"NF_Ihat_P: \", len(NF_Ihat_P))\n",
    "print(\"NF Ihat_P average: \", torch.mean(NF_Ihat_P))\n"
   ]
  },
  {
   "cell_type": "code",
   "execution_count": null,
   "metadata": {},
   "outputs": [],
   "source": [
    "PMF_log_px = PM_flow.get_log_px()\n",
    "PMF_Ihat_P = PM_flow.get_Ihat_P()\n",
    "\n",
    "# print all\n",
    "print(\"PMF_log_px: \", len(PMF_log_px))\n",
    "print(\"PMF log_px average: \", torch.mean(PMF_log_px))\n",
    "print(\"PMF_Ihat_P: \", len(PMF_Ihat_P))\n",
    "print(\"PMF Ihat_P average: \", torch.mean(PMF_Ihat_P))"
   ]
  },
  {
   "cell_type": "code",
   "execution_count": null,
   "metadata": {},
   "outputs": [],
   "source": [
    "print(\"PMF last 10 Ihat_P: \", PMF_Ihat_P[-10:])\n",
    "print(\"NF last 10 Ihat_P: \", NF_Ihat_P[-10:])"
   ]
  },
  {
   "cell_type": "code",
   "execution_count": null,
   "metadata": {},
   "outputs": [],
   "source": [
    "# plot Ihat_P for both flows on same plot (as different lines)\n",
    "plt.plot(NF_Ihat_P, label=\"NF\")\n",
    "plt.plot(PMF_Ihat_P, label=\"PMF\")\n",
    "plt.legend()\n",
    "plt.title(\"Ihat_P\")\n",
    "plt.show()"
   ]
  },
  {
   "cell_type": "markdown",
   "metadata": {},
   "source": [
    "Comparison of new datapoint generation of both flows."
   ]
  },
  {
   "cell_type": "code",
   "execution_count": null,
   "metadata": {},
   "outputs": [],
   "source": [
    "x_new_normal = normal_flow.sample(1000).detach().numpy()  # Sample 1000 new data points\n",
    "x_new_PM = PM_flow.sample(1000).detach().numpy()  # Sample 1000 new data points\n",
    "\n",
    "# plot new data of both flows (using subplots)\n",
    "ax, fig = plt.subplots(1, 2, figsize=(10, 5))\n",
    "fig[0].scatter(x_new_normal[:, 0], x_new_normal[:, 1], s=1)\n",
    "fig[0].set_title(\"Normal flow\")\n",
    "fig[1].scatter(x_new_PM[:, 0], x_new_PM[:, 1], s=1)\n",
    "fig[1].set_title(\"PF flow\")"
   ]
  },
  {
   "cell_type": "markdown",
   "metadata": {},
   "source": [
    "Comparison of the contours created by both flows."
   ]
  },
  {
   "cell_type": "code",
   "execution_count": null,
   "metadata": {},
   "outputs": [],
   "source": [
    "x_min, x_max = -1, 1\n",
    "y_min, y_max = -1, 1\n",
    "x_tick, y_tick = 20, 20\n",
    "grid_points = generate_grid_data([x_min, x_max], [y_min, y_max], x_tick, y_tick)\n",
    "\n",
    "# transform grid points\n",
    "transformed_grid_points_normal = normal_flow.bijection(grid_points)[0].detach().numpy()\n",
    "transformed_grid_points_PM = PM_flow.bijection(grid_points)[0].detach().numpy()\n",
    "\n",
    "# plot grid_points as grid with vertical lines being black and horizontal lines being red\n",
    "ax, fig = plt.subplots(1, 3, figsize=(15, 5))\n",
    "for i in range(x_tick):\n",
    "    fig[0].axvline(x=grid_points[i*y_tick,0], color='black')\n",
    "    fig[1].plot(transformed_grid_points_normal[i*y_tick:i*y_tick+y_tick,0], transformed_grid_points_normal[i*y_tick:i*y_tick+y_tick,1], color='black')\n",
    "    fig[2].plot(transformed_grid_points_PM[i*y_tick:i*y_tick+y_tick,0], transformed_grid_points_PM[i*y_tick:i*y_tick+y_tick,1], color='black')\n",
    "for i in range(y_tick):\n",
    "    fig[0].axhline(y=grid_points[i,1], color='red')\n",
    "    fig[1].plot(transformed_grid_points_normal[i::y_tick,0], transformed_grid_points_normal[i::y_tick,1], color='red')\n",
    "    fig[2].plot(transformed_grid_points_PM[i::y_tick,0], transformed_grid_points_PM[i::y_tick,1], color='red')\n",
    "\n",
    "# add titles\n",
    "fig[0].set_title(\"Grid in latent space\")\n",
    "fig[1].set_title(\"Normal flow\")\n",
    "fig[2].set_title(\"PF flow\")\n",
    "\n",
    "plt.show()\n"
   ]
  },
  {
   "cell_type": "code",
   "execution_count": null,
   "metadata": {},
   "outputs": [],
   "source": []
  },
  {
   "cell_type": "code",
   "execution_count": null,
   "metadata": {},
   "outputs": [],
   "source": []
  },
  {
   "cell_type": "markdown",
   "metadata": {},
   "source": [
    "### Example case for understanding dimensions"
   ]
  },
  {
   "cell_type": "code",
   "execution_count": null,
   "metadata": {},
   "outputs": [],
   "source": []
  },
  {
   "cell_type": "code",
   "execution_count": null,
   "metadata": {},
   "outputs": [],
   "source": [
    "# create 1 d tensor data\n",
    "z = torch.tensor([1, 2, 3, 4, 5, 6, 7, 8, 9, 10], dtype=torch.float32)\n",
    "\n",
    "print(z.shape)\n",
    "print(z.shape[-1])\n",
    "\n",
    "# create 2 d tensor data\n",
    "zz = torch.tensor([[1, 2, 3, 4, 5, 6, 7, 8, 9, 10],\n",
    "                     [1, 2, 3, 4, 5, 6, 7, 8, 9, 10]], dtype=torch.float32)\n",
    "\n",
    "print(zz.shape)\n",
    "print(zz.shape[-1])"
   ]
  },
  {
   "cell_type": "code",
   "execution_count": null,
   "metadata": {},
   "outputs": [],
   "source": []
  }
 ],
 "metadata": {
  "kernelspec": {
   "display_name": "Python 3",
   "language": "python",
   "name": "python3"
  },
  "language_info": {
   "codemirror_mode": {
    "name": "ipython",
    "version": 3
   },
   "file_extension": ".py",
   "mimetype": "text/x-python",
   "name": "python",
   "nbconvert_exporter": "python",
   "pygments_lexer": "ipython3",
   "version": "3.10.13"
  }
 },
 "nbformat": 4,
 "nbformat_minor": 2
}
